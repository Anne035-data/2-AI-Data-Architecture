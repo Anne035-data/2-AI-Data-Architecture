{
 "cells": [
  {
   "cell_type": "markdown",
   "metadata": {},
   "source": [
    "# Queries de création pour base de données NO_SQL"
   ]
  },
  {
   "cell_type": "markdown",
   "metadata": {},
   "source": [
    "## 1 -Création des tables et des données"
   ]
  },
  {
   "cell_type": "markdown",
   "metadata": {},
   "source": [
    "Nom de la database: **strip_nosql** sur **MongoDB**\n",
    "Script : stripe_creation.mongodb.js"
   ]
  },
  {
   "cell_type": "markdown",
   "metadata": {},
   "source": [
    "### Transaction"
   ]
  },
  {
   "cell_type": "code",
   "execution_count": null,
   "metadata": {
    "vscode": {
     "languageId": "javascript"
    }
   },
   "outputs": [],
   "source": [
    "{\n",
    "  \"transaction_id\": \"TX1003\",\n",
    "  \"customer_id\": \"CUST004\",\n",
    "  \"merchant_id\": \"MERCH002\",\n",
    "  \"date\": {\n",
    "      \"date\": \"2024-10-18T08:45:00Z\",\n",
    "      \"year\": 2024,\n",
    "      \"month\": 10,\n",
    "      \"day\": 18\n",
    "  },\n",
    "  \"amount\": 350,\n",
    "  \"currency\": {\n",
    "      \"currency_code\": \"EUR\",\n",
    "      \"exchange_rate\": 1.1\n",
    "  },\n",
    "  \"fraud_score\": 0.2,\n",
    "  \"status\": \"completed\",\n",
    "  \"location\": {\n",
    "      \"country_code\": \"FR\",\n",
    "      \"city\": \"Lyon\"\n",
    "  },\n",
    "  \"payment_method\": {\n",
    "      \"type\": \"paypal\",\n",
    "      \"provider\": \"Paypal\"\n",
    "  },\n",
    "  \"device\": {\n",
    "      \"type\": \"desktop\",\n",
    "      \"operating_system\": \"macOS\"\n",
    "  }\n",
    "},\n",
    "{\n",
    "\"transaction_id\": \"TX12345\",\n",
    "\"customer_id\": \"CUST001\",\n",
    "\"merchant_id\": \"MERCH001\",\n",
    "\"date\": {\n",
    "    \"date\": \"2024-10-17T12:30:00Z\",\n",
    "    \"year\": 2024,\n",
    "    \"month\": 10,\n",
    "    \"day\": 17\n",
    "},\n",
    "\"amount\": 100.50,\n",
    "\"currency\": {\n",
    "    \"currency_code\": \"USD\",\n",
    "    \"exchange_rate\": 1.0\n",
    "},\n",
    "\"fraud_score\": 0.85,\n",
    "\"status\": \"completed\",\n",
    "\"location\": {\n",
    "    \"country_code\": \"US\",\n",
    "    \"city\": \"San Francisco\"\n",
    "},\n",
    "\"payment_method\": {\n",
    "    \"type\": \"credit_card\",\n",
    "    \"provider\": \"Visa\"\n",
    "},\n",
    "\"device\": {\n",
    "    \"type\": \"mobile\",\n",
    "    \"operating_system\": \"iOS\"\n",
    "}\n",
    "},\n",
    "{\n",
    "  \"transaction_id\": \"TX1004\",\n",
    "  \"customer_id\": \"CUST003\",\n",
    "  \"merchant_id\": \"MERCH002\",\n",
    "  \"date\": {\n",
    "      \"date\": \"2024-10-18T08:45:00Z\",\n",
    "      \"year\": 2024,\n",
    "      \"month\": 10,\n",
    "      \"day\": 18\n",
    "  },\n",
    "  \"amount\": 350,\n",
    "  \"currency\": {\n",
    "      \"currency_code\": \"EUR\",\n",
    "      \"exchange_rate\": 1.1\n",
    "  },\n",
    "  \"fraud_score\": 0.2,\n",
    "  \"status\": \"completed\",\n",
    "  \"location\": {\n",
    "      \"country_code\": \"FR\",\n",
    "      \"city\": \"Lyon\"\n",
    "  },\n",
    "  \"payment_method\": {\n",
    "      \"type\": \"paypal\",\n",
    "      \"provider\": \"Paypal\"\n",
    "  },\n",
    "  \"device\": {\n",
    "      \"type\": \"desktop\",\n",
    "      \"operating_system\": \"macOS\"\n",
    "  }\n",
    "},\n",
    "{\n",
    "  \"transaction_id\": \"TX1005\",\n",
    "  \"customer_id\": \"CUST005\",\n",
    "  \"merchant_id\": \"MERCH003\",\n",
    "  \"date\": {\n",
    "      \"date\": \"2024-10-19T16:00:00Z\",\n",
    "      \"year\": 2024,\n",
    "      \"month\": 10,\n",
    "      \"day\": 19\n",
    "  },\n",
    "  \"amount\": 890.5,\n",
    "  \"currency\": {\n",
    "      \"currency_code\": \"GBP\",\n",
    "      \"exchange_rate\": 1.3\n",
    "  },\n",
    "  \"fraud_score\": 0.75,\n",
    "  \"status\": \"fraudulent\",\n",
    "  \"location\": {\n",
    "      \"country_code\": \"UK\",\n",
    "      \"city\": \"London\"\n",
    "  },\n",
    "  \"payment_method\": {\n",
    "      \"type\": \"credit_card\",\n",
    "      \"provider\": \"Visa\"\n",
    "  },\n",
    "  \"device\": {\n",
    "      \"type\": \"mobile\",\n",
    "      \"operating_system\": \"iOS\"\n",
    "  }\n",
    "},\n",
    "{\n",
    "\"transaction_id\": \"TX54321\",\n",
    "\"customer_id\": \"CUST002\",\n",
    "\"merchant_id\": \"MERCH001\",\n",
    "\"date\": {\n",
    "  \"date\": \"2024-11-05T14:20:00Z\",\n",
    "  \"year\": 2024,\n",
    "  \"month\": 11,\n",
    "  \"day\": 5\n",
    "},\n",
    "\"amount\": 249.99,\n",
    "\"currency\": {\n",
    "  \"currency_code\": \"USD\",\n",
    "  \"exchange_rate\": 1.0\n",
    "},\n",
    "\"fraud_score\": 0.3,\n",
    "\"status\": \"completed\",\n",
    "\"location\": {\n",
    "  \"country_code\": \"US\",\n",
    "  \"city\": \"New York\"\n",
    "},\n",
    "\"payment_method\": {\n",
    "  \"type\": \"credit_card\",\n",
    "  \"provider\": \"Mastercard\"\n",
    "},\n",
    "\"device\": {\n",
    "  \"type\": \"tablet\",\n",
    "  \"operating_system\": \"Android\"\n",
    "}\n",
    "},\n",
    "{\n",
    "\"transaction_id\": \"TX67890\",\n",
    "\"customer_id\": \"CUST003\",\n",
    "\"merchant_id\": \"MERCH003\",\n",
    "\"date\": {\n",
    "  \"date\": \"2024-12-01T10:45:00Z\",\n",
    "  \"year\": 2024,\n",
    "  \"month\": 12,\n",
    "  \"day\": 1\n",
    "},\n",
    "\"amount\": 45.25,\n",
    "\"currency\": {\n",
    "  \"currency_code\": \"GBP\",\n",
    "  \"exchange_rate\": 1.3\n",
    "},\n",
    "\"fraud_score\": 0.1,\n",
    "\"status\": \"completed\",\n",
    "\"location\": {\n",
    "  \"country_code\": \"UK\",\n",
    "  \"city\": \"Manchester\"\n",
    "},\n",
    "\"payment_method\": {\n",
    "  \"type\": \"bank_transfer\",\n",
    "  \"provider\": \"HSBC\"\n",
    "},\n",
    "\"device\": {\n",
    "  \"type\": \"desktop\",\n",
    "  \"operating_system\": \"Windows\"\n",
    "}\n",
    "},\n",
    "{\n",
    "\"transaction_id\": \"TX98765\",\n",
    "\"customer_id\": \"CUST004\",\n",
    "\"merchant_id\": \"MERCH002\",\n",
    "\"date\": {\n",
    "  \"date\": \"2024-09-30T18:30:00Z\",\n",
    "  \"year\": 2024,\n",
    "  \"month\": 9,\n",
    "  \"day\": 30\n",
    "},\n",
    "\"amount\": 89.99,\n",
    "\"currency\": {\n",
    "  \"currency_code\": \"EUR\",\n",
    "  \"exchange_rate\": 1.1\n",
    "},\n",
    "\"fraud_score\": 0.4,\n",
    "\"status\": \"completed\",\n",
    "\"location\": {\n",
    "  \"country_code\": \"FR\",\n",
    "  \"city\": \"Paris\"\n",
    "},\n",
    "\"payment_method\": {\n",
    "  \"type\": \"paypal\",\n",
    "  \"provider\": \"PayPal\"\n",
    "},\n",
    "\"device\": {\n",
    "  \"type\": \"mobile\",\n",
    "  \"operating_system\": \"iOS\"\n",
    "}\n",
    "}"
   ]
  },
  {
   "cell_type": "markdown",
   "metadata": {},
   "source": [
    "### Error_logs"
   ]
  },
  {
   "cell_type": "code",
   "execution_count": null,
   "metadata": {
    "vscode": {
     "languageId": "javascript"
    }
   },
   "outputs": [],
   "source": [
    "{\n",
    "  \"log_id\": \"LOG12345\",\n",
    "  \"timestamp\": \"2024-10-17T14:00:00Z\",\n",
    "  \"transaction_id\": \"TX12345\",\n",
    "  \"severity\": \"error\",\n",
    "  \"message\": \"Payment gateway timeout\",\n",
    "  \"error_code\": \"504\",\n",
    "  \"merchant_id\": \"MERCH001\",\n",
    "  \"device_id\": \"DEV12345\",\n",
    "  \"location\": {\n",
    "      \"country_code\": \"US\",\n",
    "      \"city\": \"San Francisco\"\n",
    "  }\n",
    "},\n",
    "{\n",
    "  \"log_id\": \"LOG1004\",\n",
    "  \"timestamp\": \"2024-10-18T08:50:00Z\",\n",
    "  \"transaction_id\": \"TX1004\",\n",
    "  \"severity\": \"info\",\n",
    "  \"message\": \"Transaction completed\",\n",
    "  \"error_code\": \"200\",\n",
    "  \"merchant_id\": \"MERCH002\",\n",
    "  \"device_id\": \"DEV1004\",\n",
    "  \"location\": {\n",
    "      \"country_code\": \"FR\",\n",
    "      \"city\": \"Lyon\"\n",
    "  }\n",
    "},\n",
    "{\n",
    "  \"log_id\": \"LOG1003\",\n",
    "  \"timestamp\": \"2024-10-15T11:15:00Z\",\n",
    "  \"transaction_id\": \"TX1003\",\n",
    "  \"severity\": \"info\",\n",
    "  \"message\": \"Transaction successful\",\n",
    "  \"error_code\": \"200\",\n",
    "  \"merchant_id\": \"MERCH001\",\n",
    "  \"device_id\": \"DEV1003\",\n",
    "  \"location\": {\n",
    "      \"country_code\": \"US\",\n",
    "      \"city\": \"San Francisco\"\n",
    "  }\n",
    "},\n",
    "{\n",
    "  \"log_id\": \"LOG1005\",\n",
    "  \"timestamp\": \"2024-10-19T16:05:00Z\",\n",
    "  \"transaction_id\": \"TX1005\",\n",
    "  \"severity\": \"error\",\n",
    "  \"message\": \"Transaction marked as fraudulent\",\n",
    "  \"error_code\": \"400\",\n",
    "  \"merchant_id\": \"MERCH003\",\n",
    "  \"device_id\": \"DEV1005\",\n",
    "  \"location\": {\n",
    "      \"country_code\": \"UK\",\n",
    "      \"city\": \"London\"\n",
    "  }\n",
    "}\n"
   ]
  },
  {
   "cell_type": "markdown",
   "metadata": {},
   "source": [
    "### User_interactions"
   ]
  },
  {
   "cell_type": "code",
   "execution_count": null,
   "metadata": {
    "vscode": {
     "languageId": "javascript"
    }
   },
   "outputs": [],
   "source": [
    "{\n",
    "  \"session_id\": \"SES12345\",\n",
    "  \"customer_id\": \"CUST001\",\n",
    "  \"start_time\": \"2024-10-17T12:00:00Z\",\n",
    "  \"end_time\": \"2024-10-17T12:30:00Z\",\n",
    "  \"clickstream\": [\n",
    "      {\n",
    "          \"timestamp\": \"2024-10-17T12:05:00Z\",\n",
    "          \"page\": \"homepage\",\n",
    "          \"action\": \"view\",\n",
    "          \"element\": \"banner\"\n",
    "      },\n",
    "      {\n",
    "          \"timestamp\": \"2024-10-17T12:15:00Z\",\n",
    "          \"page\": \"product_page\",\n",
    "          \"action\": \"click\",\n",
    "          \"element\": \"add_to_cart\"\n",
    "      }\n",
    "  ],\n",
    "  \"total_time_spent\": 1800,\n",
    "  \"bounce_rate\": 0.25\n",
    "},\n",
    "{\n",
    "\"session_id\": \"SES1004\",\n",
    "\"customer_id\": \"CUST004\",\n",
    "\"start_time\": \"2024-10-18T07:30:00Z\",\n",
    "\"end_time\": \"2024-10-18T08:15:00Z\",\n",
    "\"clickstream\": [\n",
    "  {\n",
    "    \"timestamp\": \"2024-10-18T07:35:00Z\",\n",
    "    \"page\": \"product_page\",\n",
    "    \"action\": \"click\",\n",
    "    \"element\": \"add_to_cart_button\"\n",
    "  }\n",
    "],\n",
    "\"total_time_spent\": 2700,\n",
    "\"bounce_rate\": 0.2\n",
    "},\n",
    "{\n",
    "\"session_id\": \"SES1003\",\n",
    "\"customer_id\": \"CUST003\",\n",
    "\"start_time\": \"2024-10-15T10:30:00Z\",\n",
    "\"end_time\": \"2024-10-15T11:00:00Z\",\n",
    "\"clickstream\": [\n",
    "  {\n",
    "    \"timestamp\": \"2024-10-15T10:35:00Z\",\n",
    "    \"page\": \"homepage\",\n",
    "    \"action\": \"view\",\n",
    "    \"element\": \"promo_banner\"\n",
    "  },\n",
    "  {\n",
    "    \"timestamp\": \"2024-10-15T10:55:00Z\",\n",
    "    \"page\": \"checkout\",\n",
    "    \"action\": \"click\",\n",
    "    \"element\": \"buy_now_button\"\n",
    "  }\n",
    "],\n",
    "\"total_time_spent\": 1800,\n",
    "\"bounce_rate\": 0.4\n",
    "},\n",
    "{\n",
    "\"session_id\": \"SES1005\",\n",
    "\"customer_id\": \"CUST002\",\n",
    "\"start_time\": \"2024-10-15T10:30:00Z\",\n",
    "\"end_time\": \"2024-10-15T11:00:00Z\",\n",
    "\"clickstream\": [\n",
    "  {\n",
    "    \"timestamp\": \"2024-10-15T10:35:00Z\",\n",
    "    \"page\": \"homepage\",\n",
    "    \"action\": \"view\",\n",
    "    \"element\": \"promo_banner\"\n",
    "  },\n",
    "  {\n",
    "    \"timestamp\": \"2024-10-15T10:55:00Z\",\n",
    "    \"page\": \"checkout\",\n",
    "    \"action\": \"click\",\n",
    "    \"element\": \"buy_now_button\"\n",
    "  }\n",
    "],\n",
    "\"total_time_spent\": 1800,\n",
    "\"bounce_rate\": 0.4\n",
    "},\n",
    "{\n",
    "\"session_id\": \"SES2468\",\n",
    "\"customer_id\": \"CUST005\",\n",
    "\"start_time\": \"2024-11-01T09:00:00Z\",\n",
    "\"end_time\": \"2024-11-01T09:45:00Z\",\n",
    "\"clickstream\": [\n",
    "  {\n",
    "    \"timestamp\": \"2024-11-01T09:10:00Z\",\n",
    "    \"page\": \"category_page\",\n",
    "    \"action\": \"view\",\n",
    "    \"element\": \"product_list\"\n",
    "  },\n",
    "  {\n",
    "    \"timestamp\": \"2024-11-01T09:25:00Z\",\n",
    "    \"page\": \"product_page\",\n",
    "    \"action\": \"click\",\n",
    "    \"element\": \"add_to_cart\"\n",
    "  },\n",
    "  {\n",
    "    \"timestamp\": \"2024-11-01T09:40:00Z\",\n",
    "    \"page\": \"checkout\",\n",
    "    \"action\": \"click\",\n",
    "    \"element\": \"place_order\"\n",
    "  }\n",
    "],\n",
    "\"total_time_spent\": 2700,\n",
    "\"bounce_rate\": 0.15\n",
    "},\n",
    "{\n",
    "\"session_id\": \"SES3579\",\n",
    "\"customer_id\": \"CUST006\",\n",
    "\"start_time\": \"2024-11-15T14:00:00Z\",\n",
    "\"end_time\": \"2024-11-15T14:45:00Z\",\n",
    "\"clickstream\": [\n",
    "  {\n",
    "    \"timestamp\": \"2024-11-15T14:05:00Z\",\n",
    "    \"page\": \"homepage\",\n",
    "    \"action\": \"view\",\n",
    "    \"element\": \"search_bar\"\n",
    "  },\n",
    "  {\n",
    "    \"timestamp\": \"2024-11-15T14:15:00Z\",\n",
    "    \"page\": \"search_results\",\n",
    "    \"action\": \"click\",\n",
    "    \"element\": \"product_card\"\n",
    "  },\n",
    "  {\n",
    "    \"timestamp\": \"2024-11-15T14:35:00Z\",\n",
    "    \"page\": \"cart\",\n",
    "    \"action\": \"click\",\n",
    "    \"element\": \"place_order\"\n",
    "  }\n",
    "],\n",
    "\"total_time_spent\": 2700,\n",
    "\"bounce_rate\": 0.3\n",
    "},\n",
    "{\n",
    "\"session_id\": \"SES4680\",\n",
    "\"customer_id\": \"CUST007\",\n",
    "\"start_time\": \"2024-12-01T18:00:00Z\",\n",
    "\"end_time\": \"2024-12-01T18:45:00Z\",\n",
    "\"clickstream\": [\n",
    "  {\n",
    "    \"timestamp\": \"2024-12-01T18:10:00Z\",\n",
    "    \"page\": \"category_page\",\n",
    "    \"action\": \"view\",\n",
    "    \"element\": \"filters\"\n",
    "  },\n",
    "  {\n",
    "    \"timestamp\": \"2024-12-01T18:25:00Z\",\n",
    "    \"page\": \"product_page\",\n",
    "    \"action\": \"click\",\n",
    "    \"element\": \"add_to_wishlist\"\n",
    "  },\n",
    "  {\n",
    "    \"timestamp\": \"2024-12-01T18:40:00Z\",\n",
    "    \"page\": \"account\",\n",
    "    \"action\": \"click\",\n",
    "    \"element\": \"logout\"\n",
    "  }\n",
    "],\n",
    "\"total_time_spent\": 2700,\n",
    "\"bounce_rate\": 0.2\n",
    "}"
   ]
  },
  {
   "cell_type": "markdown",
   "metadata": {},
   "source": [
    "### Machine_learning_features"
   ]
  },
  {
   "cell_type": "code",
   "execution_count": null,
   "metadata": {
    "vscode": {
     "languageId": "javascript"
    }
   },
   "outputs": [],
   "source": [
    "{\n",
    "  \"model_id\": \"ML12345\",\n",
    "  \"customer_id\": \"CUST001\",\n",
    "  \"session_id\": \"SES12345\",\n",
    "  \"features\": {\n",
    "      \"total_transactions\": 50,\n",
    "      \"average_transaction_value\": 75.20,\n",
    "      \"fraud_score\": 0.85,\n",
    "      \"session_duration\": 300\n",
    "  },\n",
    "  \"prediction\": \"low_risk\",\n",
    "  \"model_score\": 0.95\n",
    "},\n",
    "{\n",
    "  \"model_id\": \"ML1003\",\n",
    "  \"customer_id\": \"CUST003\",\n",
    "  \"session_id\": \"SES1003\",\n",
    "  \"features\": {\n",
    "      \"total_transactions\": 20,\n",
    "      \"average_transaction_value\": 75,\n",
    "      \"fraud_score\": 0.4,\n",
    "      \"session_duration\": 1800\n",
    "  },\n",
    "  \"prediction\": \"low_risk\",\n",
    "  \"model_score\": 0.95\n",
    "},\n",
    "{\n",
    "  \"model_id\": \"ML1004\",\n",
    "  \"customer_id\": \"CUST004\",\n",
    "  \"session_id\": \"SES1004\",\n",
    "  \"features\": {\n",
    "      \"total_transactions\": 15,\n",
    "      \"average_transaction_value\": 150,\n",
    "      \"fraud_score\": 0.2,\n",
    "      \"session_duration\": 2700\n",
    "  },\n",
    "  \"prediction\": \"low_risk\",\n",
    "  \"model_score\": 0.85\n",
    "}\n"
   ]
  },
  {
   "cell_type": "markdown",
   "metadata": {},
   "source": [
    "### Customer_feedback"
   ]
  },
  {
   "cell_type": "code",
   "execution_count": null,
   "metadata": {
    "vscode": {
     "languageId": "javascript"
    }
   },
   "outputs": [],
   "source": [
    "{\n",
    "  \"feedback_id\": \"FB12345\",\n",
    "  \"customer_id\": \"CUST001\",\n",
    "  \"merchant_id\": \"MERCH001\",\n",
    "  \"timestamp\": \"2024-10-17T14:15:00Z\",\n",
    "  \"rating\": 4,\n",
    "  \"review\": \"Great service, fast delivery!\",\n",
    "  \"survey_responses\": [\n",
    "      {\n",
    "          \"question\": \"How satisfied are you with the product?\",\n",
    "          \"answer\": \"Very satisfied\"\n",
    "      },\n",
    "      {\n",
    "          \"question\": \"Would you recommend this product?\",\n",
    "          \"answer\": \"Yes\"\n",
    "      }\n",
    "  ]\n",
    "},\n",
    "{\n",
    "  \"feedback_id\": \"FB1004\",\n",
    "  \"customer_id\": \"CUST004\",\n",
    "  \"merchant_id\": \"MERCH002\",\n",
    "  \"timestamp\": \"2024-10-18T14:30:00Z\",\n",
    "  \"rating\": 5,\n",
    "  \"review\": \"Excellent product and fast delivery.\",\n",
    "  \"survey_responses\": [\n",
    "      {\n",
    "          \"question\": \"How would you rate the product quality?\",\n",
    "          \"answer\": \"Excellent\"\n",
    "      },\n",
    "      {\n",
    "          \"question\": \"How would you rate the delivery time?\",\n",
    "          \"answer\": \"Fast\"\n",
    "      }\n",
    "  ]\n",
    "},\n",
    "{\n",
    "  \"feedback_id\": \"FB1003\",\n",
    "  \"customer_id\": \"CUST003\",\n",
    "  \"merchant_id\": \"MERCH001\",\n",
    "  \"timestamp\": \"2024-10-15T12:00:00Z\",\n",
    "  \"rating\": 4,\n",
    "  \"review\": \"Good product, but delivery was slow.\",\n",
    "  \"survey_responses\": [\n",
    "      {\n",
    "          \"question\": \"How would you rate the product quality?\",\n",
    "          \"answer\": \"Good\"\n",
    "      },\n",
    "      {\n",
    "          \"question\": \"How would you rate the delivery time?\",\n",
    "          \"answer\": \"Slow\"\n",
    "      }\n",
    "  ]\n",
    "}"
   ]
  },
  {
   "cell_type": "markdown",
   "metadata": {},
   "source": [
    "### Merchant"
   ]
  },
  {
   "cell_type": "code",
   "execution_count": null,
   "metadata": {
    "vscode": {
     "languageId": "javascript"
    }
   },
   "outputs": [],
   "source": [
    "{\n",
    "  \"merchant_id\": \"MERCH001\",\n",
    "  \"merchant_name\": \"Super Shop\",\n",
    "  \"merchant_category\": \"Retail\",\n",
    "  \"contact_info\": {\n",
    "      \"email\": \"contact@supershop.com\",\n",
    "      \"phone\": \"+123456789\"\n",
    "  }\n",
    "},\n",
    "{\n",
    "  \"merchant_id\": \"MERCH002\",\n",
    "  \"merchant_name\": \"Fashion Hub\",\n",
    "  \"merchant_category\": \"Fashion\",\n",
    "  \"contact_info\": {\n",
    "      \"email\": \"contact@fashionhub.com\",\n",
    "      \"phone\": \"+123456790\"\n",
    "  }\n",
    "},\n",
    "{\n",
    "  \"merchant_id\": \"MERCH003\",\n",
    "  \"merchant_name\": \"QuickMart\",\n",
    "  \"merchant_category\": \"Grocery\",\n",
    "  \"contact_info\": {\n",
    "      \"email\": \"contact@quickmart.com\",\n",
    "      \"phone\": \"+123456791\"\n",
    "  }\n",
    "},\n",
    "{\n",
    "\"merchant_id\": \"MERCH004\",\n",
    "\"merchant_name\": \"Electronics Emporium\",\n",
    "\"merchant_category\": \"Electronics\",\n",
    "\"contact_info\": {\n",
    "  \"email\": \"info@electronicsemporium.com\",\n",
    "  \"phone\": \"+123456792\"\n",
    "}\n",
    "},\n",
    "{\n",
    "\"merchant_id\": \"MERCH005\",\n",
    "\"merchant_name\": \"Luxury Boutique\",\n",
    "\"merchant_category\": \"Fashion\",\n",
    "\"contact_info\": {\n",
    "  \"email\": \"contact@luxuryboutique.com\",\n",
    "  \"phone\": \"+123456793\" \n",
    "}\n",
    "},\n",
    "{\n",
    "\"merchant_id\": \"MERCH006\",\n",
    "\"merchant_name\": \"Gourmet Grocery\",\n",
    "\"merchant_category\": \"Grocery\",\n",
    "\"contact_info\": {\n",
    "  \"email\": \"orders@gourmetgrocery.com\",\n",
    "  \"phone\": \"+123456794\"\n",
    "}\n",
    "},\n",
    "{\n",
    "\"merchant_id\": \"MERCH007\",\n",
    "\"merchant_name\": \"Sports Emporium\",\n",
    "\"merchant_category\": \"Sports\",\n",
    "\"contact_info\": {\n",
    "  \"email\": \"support@sportsemporium.com\",\n",
    "  \"phone\": \"+123456795\"\n",
    "}\n",
    "},\n",
    "{\n",
    "\"merchant_id\": \"MERCH008\",\n",
    "\"merchant_name\": \"Home Décor\",\n",
    "\"merchant_category\": \"Home\",\n",
    "\"contact_info\": {\n",
    "  \"email\": \"info@homedecor.com\",\n",
    "  \"phone\": \"+123456796\"\n",
    "}\n",
    "}"
   ]
  },
  {
   "cell_type": "markdown",
   "metadata": {},
   "source": [
    "### Product"
   ]
  },
  {
   "cell_type": "code",
   "execution_count": null,
   "metadata": {
    "vscode": {
     "languageId": "javascript"
    }
   },
   "outputs": [],
   "source": [
    "{\n",
    "  \"product_id\": \"PROD001\",\n",
    "  \"merchant_id\": \"MERCH001\",\n",
    "  \"product_name\": \"Laptop\",\n",
    "  \"category\": \"Electronics\",\n",
    "  \"price\": 999.99\n",
    "},\n",
    "{\n",
    "\"product_id\": \"PROD002\",\n",
    "\"merchant_id\": \"MERCH002\",\n",
    "\"product_name\": \"Designer Bag\",\n",
    "\"category\": \"Fashion\",\n",
    "\"price\": 1299.99\n",
    "},\n",
    "{\n",
    "\"product_id\": \"PROD003\",\n",
    "\"merchant_id\": \"MERCH003\",\n",
    "\"product_name\": \"Fresh Fruits Pack\",\n",
    "\"category\": \"Grocery\",\n",
    "\"price\": 25.99\n",
    "},\n",
    "{\n",
    "\"product_id\": \"PROD004\",\n",
    "\"merchant_id\": \"MERCH001\",\n",
    "\"product_name\": \"Smartphone\",\n",
    "\"category\": \"Electronics\",\n",
    "\"price\": 799.99\n",
    "}"
   ]
  },
  {
   "cell_type": "markdown",
   "metadata": {},
   "source": [
    "### Country_region_codes"
   ]
  },
  {
   "cell_type": "code",
   "execution_count": null,
   "metadata": {
    "vscode": {
     "languageId": "javascript"
    }
   },
   "outputs": [],
   "source": [
    "{\n",
    "  \"country_code\": \"US\",\n",
    "  \"country_name\": \"United States\",\n",
    "  \"region\": \"North America\"\n",
    "},\n",
    "{\n",
    " \"country_code\": \"FR\",\n",
    " \"country_name\": \"France\",\n",
    " \"region\": \"Europe\"\n",
    "},\n",
    "{\n",
    " \"country_code\": \"CN\",\n",
    " \"country_name\": \"China\",\n",
    " \"region\": \"Asia\"\n",
    "},\n",
    "{\n",
    " \"country_code\": \"BR\",\n",
    " \"country_name\": \"Brazil\",\n",
    " \"region\": \"South America\" \n",
    "},\n",
    "{\n",
    " \"country_code\": \"AU\",\n",
    " \"country_name\": \"Australia\",\n",
    " \"region\": \"Oceania\"\n",
    "},\n",
    "{\n",
    " \"country_code\": \"ZA\",\n",
    " \"country_name\": \"South Africa\",\n",
    " \"region\": \"Africa\"\n",
    "}"
   ]
  },
  {
   "cell_type": "markdown",
   "metadata": {},
   "source": [
    "### Currency_exchange_rates"
   ]
  },
  {
   "cell_type": "code",
   "execution_count": null,
   "metadata": {
    "vscode": {
     "languageId": "javascript"
    }
   },
   "outputs": [],
   "source": [
    "{\n",
    "  \"currency_code\": \"USD\",\n",
    "  \"currency_name\": \"United States Dollar\",\n",
    "  \"exchange_rate_to_usd\": 1.0\n",
    "},\n",
    "{\n",
    "  \"currency_code\": \"EUR\",\n",
    "  \"transaction_id\": \"TX1004\",\n",
    "  \"country_code\": \"FR\",\n",
    "  \"product_id\": \"PROD002\",\n",
    "  \"currency_name\": \"Euro\",\n",
    "  \"currency_rate\": 1.1\n",
    "},\n",
    "{\n",
    "  \"currency_code\": \"GBP\",\n",
    "  \"transaction_id\": \"TX1005\",\n",
    "  \"country_code\": \"UK\",\n",
    "  \"product_id\": \"PROD003\",\n",
    "  \"currency_name\": \"British Pound\",\n",
    "  \"currency_rate\": 1.3\n",
    "}\n"
   ]
  },
  {
   "cell_type": "markdown",
   "metadata": {},
   "source": [
    "### 2 - Création des indexes qui semblent utiles \n",
    "(à redéfinir à l'usage en fonction des données les plus utilisées)\n"
   ]
  },
  {
   "cell_type": "markdown",
   "metadata": {},
   "source": [
    "### Transactions"
   ]
  },
  {
   "cell_type": "code",
   "execution_count": null,
   "metadata": {
    "vscode": {
     "languageId": "javascript"
    }
   },
   "outputs": [],
   "source": [
    "db.transactions.createIndex({\"transaction_id\": 1}, {unique: true});\n",
    "db.transactions.createIndex({\"merchant_id\": 1});\n",
    "db.transactions.createIndex({\"customer_id\": 1});\n",
    "db.transactions.createIndex({\"date.date\": 1});"
   ]
  },
  {
   "cell_type": "markdown",
   "metadata": {},
   "source": [
    "### error_logs"
   ]
  },
  {
   "cell_type": "code",
   "execution_count": null,
   "metadata": {
    "vscode": {
     "languageId": "javascript"
    }
   },
   "outputs": [],
   "source": [
    "db.error_logs.createIndex({\"log_id\": 1}, {unique: true});\n",
    "db.error_logs.createIndex({\"transaction_id\": 1});\n",
    "db.error_logs.createIndex({\"timestamp\": 1});"
   ]
  },
  {
   "cell_type": "markdown",
   "metadata": {},
   "source": [
    "### product"
   ]
  },
  {
   "cell_type": "code",
   "execution_count": null,
   "metadata": {
    "vscode": {
     "languageId": "javascript"
    }
   },
   "outputs": [],
   "source": [
    "db.product.createIndex({\"product_id\": 1}, {unique: true});\n",
    "db.product.createIndex({\"merchant_id\": 1});\n",
    "db.product.createIndex({\"category\": 1});"
   ]
  },
  {
   "cell_type": "markdown",
   "metadata": {},
   "source": [
    "### merchant"
   ]
  },
  {
   "cell_type": "code",
   "execution_count": null,
   "metadata": {
    "vscode": {
     "languageId": "javascript"
    }
   },
   "outputs": [],
   "source": [
    "db.merchant.createIndex({\"merchant_id\": 1}, {unique: true});\n",
    "db.merchant.createIndex({\"merchant_category\": 1});"
   ]
  },
  {
   "cell_type": "markdown",
   "metadata": {},
   "source": [
    "### user_interactions"
   ]
  },
  {
   "cell_type": "code",
   "execution_count": null,
   "metadata": {
    "vscode": {
     "languageId": "javascript"
    }
   },
   "outputs": [],
   "source": [
    "db.user_interactions.createIndex({\"session_id\": 1}, {unique: true});\n",
    "db.user_interactions.createIndex({\"customer_id\": 1});"
   ]
  },
  {
   "cell_type": "markdown",
   "metadata": {},
   "source": [
    "### 3-  Queries test"
   ]
  },
  {
   "cell_type": "code",
   "execution_count": null,
   "metadata": {
    "vscode": {
     "languageId": "javascript"
    }
   },
   "outputs": [],
   "source": [
    "{ \n",
    "    \"amount\": { \"$gt\": 500 },\n",
    "    \"status\": \"fraudulent\" \n",
    "  }\n",
    "  "
   ]
  },
  {
   "cell_type": "markdown",
   "metadata": {},
   "source": [
    "Trouve toutes les transactions où :\n",
    "\n",
    "Le montant est supérieur à 500\n",
    "ET le statut est \"fraudulent\""
   ]
  },
  {
   "cell_type": "code",
   "execution_count": null,
   "metadata": {
    "vscode": {
     "languageId": "javascript"
    }
   },
   "outputs": [],
   "source": [
    "{\n",
    "    \"merchant_id\": \"MERCH002\",\n",
    "    \"amount\": { \"$gt\": 200 }\n",
    "  }\n",
    "  "
   ]
  },
  {
   "cell_type": "markdown",
   "metadata": {},
   "source": [
    "Trouve toutes les transactions où :\n",
    "\n",
    "Le marchand a l'ID \"MERCH002\"\n",
    "ET le montant est supérieur à 200"
   ]
  },
  {
   "cell_type": "code",
   "execution_count": null,
   "metadata": {
    "vscode": {
     "languageId": "javascript"
    }
   },
   "outputs": [],
   "source": [
    "{\n",
    "    \"currency.currency_code\": \"USD\",\n",
    "    \"amount\": { \"$gte\": 50, \"$lte\": 150 }\n",
    "  }\n",
    "  "
   ]
  },
  {
   "cell_type": "markdown",
   "metadata": {},
   "source": [
    "Trouve toutes les transactions où :\n",
    "\n",
    "La devise est USD (le \"currency.currency_code\" utilise la notation point pour accéder à une propriété imbriquée)\n",
    "ET le montant est entre 50 et 150 inclus ($gte = greater than or equal, $lte = less than or equal)"
   ]
  },
  {
   "cell_type": "code",
   "execution_count": null,
   "metadata": {
    "vscode": {
     "languageId": "javascript"
    }
   },
   "outputs": [],
   "source": [
    "## avec agregation\n",
    "[\n",
    "    { \"$match\": {\n",
    "        \"customer_id\": \"CUST004\"\n",
    "    }},\n",
    "    { \"$lookup\": {\n",
    "        \"from\": \"Machine_learning_features\",\n",
    "        \"localField\": \"customer_id\",\n",
    "        \"foreignField\": \"customer_id\",\n",
    "        \"as\": \"ml_data\"\n",
    "    }}\n",
    "]"
   ]
  },
  {
   "cell_type": "markdown",
   "metadata": {},
   "source": [
    "requête analysait les transactions du client CUST004 (match) et récupérait ses données ML associées (lookup) "
   ]
  },
  {
   "cell_type": "markdown",
   "metadata": {},
   "source": [
    "# Queries de création pour base de données OLTP"
   ]
  },
  {
   "cell_type": "markdown",
   "metadata": {},
   "source": [
    "Nom de la base de BDD : **OLTP_STRIP_PROJECT** sur **PostgreSQL / NeonDB**"
   ]
  },
  {
   "cell_type": "markdown",
   "metadata": {},
   "source": [
    "### 1 - Création des tables\n",
    "Il faut d'abord créer les tables indépendants, puis avec dépendances sous NeonDB."
   ]
  },
  {
   "cell_type": "markdown",
   "metadata": {},
   "source": [
    "### Device"
   ]
  },
  {
   "cell_type": "code",
   "execution_count": null,
   "metadata": {
    "vscode": {
     "languageId": "javascript"
    }
   },
   "outputs": [],
   "source": [
    "CREATE TABLE Device (\n",
    "    device_type_id VARCHAR PRIMARY KEY,\n",
    "    device_type VARCHAR,\n",
    "    operating_system VARCHAR\n",
    ")\n"
   ]
  },
  {
   "cell_type": "markdown",
   "metadata": {},
   "source": [
    "### Status"
   ]
  },
  {
   "cell_type": "code",
   "execution_count": null,
   "metadata": {
    "vscode": {
     "languageId": "javascript"
    }
   },
   "outputs": [],
   "source": [
    "CREATE TABLE Status (\n",
    "    status_id VARCHAR PRIMARY KEY,\n",
    "    status_name VARCHAR,\n",
    "    description VARCHAR,\n",
    "    fraude_score FLOAT,\n",
    "    is_fraud BOOLEAN\n",
    ")"
   ]
  },
  {
   "cell_type": "markdown",
   "metadata": {},
   "source": [
    "### Currency"
   ]
  },
  {
   "cell_type": "code",
   "execution_count": null,
   "metadata": {
    "vscode": {
     "languageId": "javascript"
    }
   },
   "outputs": [],
   "source": [
    "CREATE TABLE Currency (\n",
    "    currency_id VARCHAR PRIMARY KEY,\n",
    "    from_currency VARCHAR,\n",
    "    to_currency VARCHAR,\n",
    "    rate FLOAT\n",
    ")"
   ]
  },
  {
   "cell_type": "markdown",
   "metadata": {},
   "source": [
    "### Payment_method"
   ]
  },
  {
   "cell_type": "code",
   "execution_count": null,
   "metadata": {
    "vscode": {
     "languageId": "javascript"
    }
   },
   "outputs": [],
   "source": [
    "CREATE TABLE Payment_method (\n",
    "    payment_method_id VARCHAR PRIMARY KEY,\n",
    "    payment_type VARCHAR,\n",
    "    provider VARCHAR\n",
    ")"
   ]
  },
  {
   "cell_type": "markdown",
   "metadata": {},
   "source": [
    "### Product"
   ]
  },
  {
   "cell_type": "code",
   "execution_count": null,
   "metadata": {
    "vscode": {
     "languageId": "javascript"
    }
   },
   "outputs": [],
   "source": [
    "CREATE TABLE Product (\n",
    "    product_id VARCHAR PRIMARY KEY,\n",
    "    product_name VARCHAR,\n",
    "    product_price DECIMAL(15,2),\n",
    "    category VARCHAR,\n",
    "    authorized BOOLEAN\n",
    ")"
   ]
  },
  {
   "cell_type": "markdown",
   "metadata": {},
   "source": [
    "### Location"
   ]
  },
  {
   "cell_type": "code",
   "execution_count": null,
   "metadata": {
    "vscode": {
     "languageId": "javascript"
    }
   },
   "outputs": [],
   "source": [
    "CREATE TABLE Location (\n",
    "    location_id VARCHAR PRIMARY KEY,\n",
    "    country_name VARCHAR,\n",
    "    region VARCHAR,\n",
    "    city VARCHAR,\n",
    "    embargo BOOLEAN,\n",
    "    location_ip VARCHAR\n",
    ")"
   ]
  },
  {
   "cell_type": "markdown",
   "metadata": {},
   "source": [
    "### Customer"
   ]
  },
  {
   "cell_type": "code",
   "execution_count": null,
   "metadata": {
    "vscode": {
     "languageId": "javascript"
    }
   },
   "outputs": [],
   "source": [
    "CREATE TABLE Customer (\n",
    "    customer_id VARCHAR PRIMARY KEY,\n",
    "    customer_name VARCHAR,\n",
    "    customer_email VARCHAR,\n",
    "    location_id VARCHAR REFERENCES Location(location_id)\n",
    ")"
   ]
  },
  {
   "cell_type": "markdown",
   "metadata": {},
   "source": [
    "### Merchant"
   ]
  },
  {
   "cell_type": "code",
   "execution_count": null,
   "metadata": {
    "vscode": {
     "languageId": "javascript"
    }
   },
   "outputs": [],
   "source": [
    "CREATE TABLE Merchant (\n",
    "    merchant_id VARCHAR PRIMARY KEY,\n",
    "    merchant_name VARCHAR,\n",
    "    business_type VARCHAR,\n",
    "    location_id VARCHAR REFERENCES Location(location_id)\n",
    ")"
   ]
  },
  {
   "cell_type": "markdown",
   "metadata": {},
   "source": [
    "### Transaction"
   ]
  },
  {
   "cell_type": "code",
   "execution_count": null,
   "metadata": {
    "vscode": {
     "languageId": "sql"
    }
   },
   "outputs": [],
   "source": [
    "CREATE TABLE Transaction (\n",
    "    transaction_id VARCHAR PRIMARY KEY,\n",
    "    merchant_id VARCHAR REFERENCES Merchant(merchant_id),\n",
    "    customer_id VARCHAR REFERENCES Customer(customer_id),\n",
    "    payment_method_id VARCHAR REFERENCES Payment_method(payment_method_id),\n",
    "    device_type_id VARCHAR REFERENCES Device(device_type_id),\n",
    "    date_id VARCHAR,\n",
    "    status_id VARCHAR REFERENCES Status(status_id),\n",
    "    product_id VARCHAR REFERENCES Product(product_id),\n",
    "    location_id VARCHAR REFERENCES Location(location_id),\n",
    "    currency_id VARCHAR REFERENCES Currency(currency_id),\n",
    "    datetime TIMESTAMP NOT NULL,\n",
    "    amount DECIMAL(15,2) NOT NULL,\n",
    "    tax DECIMAL(15,2)\n",
    ")"
   ]
  },
  {
   "cell_type": "markdown",
   "metadata": {},
   "source": [
    "### 2 - Insertion de données\n",
    "Script : stripe_data_neondb.sql"
   ]
  },
  {
   "cell_type": "code",
   "execution_count": null,
   "metadata": {
    "vscode": {
     "languageId": "sql"
    }
   },
   "outputs": [],
   "source": [
    "-- Location data\n",
    "INSERT INTO location\n",
    "(location_id, country_name, region, city, location_ip, embargo)\n",
    "VALUES\n",
    "('LOC001', 'USA', 'North America', 'New York', '192.168.1.10', FALSE),\n",
    "('LOC002', 'France', 'Europe', 'Paris', '192.168.1.20', FALSE),\n",
    "('LOC003', 'Germany', 'Europe', 'Berlin', '192.168.1.30', FALSE),\n",
    "('LOC004', 'Iran', 'Middle East', 'Tehran', '192.168.1.40', TRUE),\n",
    "('LOC005', 'United Kingdom', 'Europe', 'London', '192.168.1.50', FALSE),\n",
    "('LOC006', 'Japan', 'Asia', 'Tokyo', '192.168.1.60', FALSE),\n",
    "('LOC007', 'Spain', 'Europe', 'Madrid', '192.168.1.70', FALSE);\n",
    "\n",
    "-- Device data\n",
    "INSERT INTO device\n",
    "(device_type_id, device_type, operating_system)\n",
    "VALUES\n",
    "('DEV001', 'Smartphone', 'Android'),\n",
    "('DEV002', 'Tablet', 'iOS'),\n",
    "('DEV003', 'Laptop', 'Windows'),\n",
    "('DEV004', 'Desktop', 'MacOS'),\n",
    "('DEV005', 'Tablet', 'iPadOS'),\n",
    "('DEV006', 'Smartphone', 'iOS');\n",
    "\n",
    "-- Payment Method data\n",
    "INSERT INTO Payment_Method\n",
    "(payment_method_id, payment_type, provider)\n",
    "VALUES\n",
    "('PM001', 'Credit Card', 'VISA'),\n",
    "('PM002', 'PayPal', 'PayPal Inc.'),\n",
    "('PM003', 'Bank Transfer', 'BNP Paribas'),\n",
    "('PM004', 'Digital Wallet', 'Apple Pay'),\n",
    "('PM005', 'Digital Wallet', 'Google Pay'),\n",
    "('PM006', 'Credit Card', 'Mastercard');\n",
    "\n",
    "-- Status data\n",
    "INSERT INTO Status\n",
    "(status_id, status_name, description, fraude_score, is_fraud)\n",
    "VALUES\n",
    "('STAT001', 'Completed', 'Transaction successfully completed', 0.1, FALSE),\n",
    "('STAT002', 'Pending', 'Transaction is pending', 0.0, FALSE),\n",
    "('STAT003', 'Fraudulent', 'Transaction flagged as fraud', 0.9, TRUE),\n",
    "('STAT004', 'Failed', 'Transaction failed due to technical issues', 0.2, FALSE),\n",
    "('STAT005', 'Suspicious', 'Transaction under review', 0.7, FALSE),\n",
    "('STAT006', 'Cancelled', 'Transaction cancelled by user', 0.1, FALSE);\n",
    "\n",
    "-- Currency data\n",
    "INSERT INTO Currency \n",
    "(currency_id, from_currency, to_currency, rate)\n",
    "VALUES\n",
    "('CUR001', 'USD', 'EUR', 0.85),\n",
    "('CUR002', 'EUR', 'JPY', 129.53),\n",
    "('CUR003', 'GBP', 'USD', 1.39),\n",
    "('CUR004', 'JPY', 'USD', 0.0091),\n",
    "('CUR005', 'CAD', 'USD', 0.75),\n",
    "('CUR006', 'AUD', 'USD', 0.73),\n",
    "('CUR007', 'CNY', 'USD', 0.15);\n",
    "\n",
    "-- Product data\n",
    "INSERT INTO Product\n",
    "(product_id, product_name, product_price, category, authorized)\n",
    "VALUES\n",
    "('PROD001', 'Smartphone X', 899.99, 'Electronics', TRUE),\n",
    "('PROD002', 'Designer Handbag', 1299.99, 'Fashion', TRUE),\n",
    "('PROD003', 'Organic Bananas', 3.99, 'Grocery', TRUE),\n",
    "('PROD004', 'Premium Headphones', 299.99, 'Electronics', TRUE),\n",
    "('PROD005', 'Luxury Watch', 2499.99, 'Fashion', TRUE),\n",
    "('PROD006', 'Coffee Machine', 199.99, 'Home Appliances', TRUE);\n",
    "\n",
    "-- Customer data\n",
    "INSERT INTO Customer \n",
    "(customer_id, customer_name, customer_email, location_id)\n",
    "VALUES\n",
    "('CUST001', 'John Doe', 'johndoe@example.com', 'LOC001'),\n",
    "('CUST002', 'Jane Smith', 'janesmith@example.com', 'LOC002'),\n",
    "('CUST003', 'Alice Johnson', 'alicej@example.com', 'LOC003'),\n",
    "('CUST004', 'Emma Wilson', 'emma.wilson@example.com', 'LOC005'),\n",
    "('CUST005', 'Takeshi Yamamoto', 'takeshi.y@example.jp', 'LOC006'),\n",
    "('CUST006', 'Carlos Rodriguez', 'carlos.r@example.es', 'LOC007');\n",
    "\n",
    "-- Merchant data\n",
    "INSERT INTO Merchant\n",
    "(merchant_id, merchant_name, business_type, location_id)\n",
    "VALUES\n",
    "('MERCH001', 'Best Electronics', 'Retail', 'LOC001'),\n",
    "('MERCH002', 'Fashion Hub', 'Fashion', 'LOC003'),\n",
    "('MERCH003', 'QuickMart', 'Grocery', 'LOC002'),\n",
    "('MERCH004', 'Tech Haven', 'Electronics', 'LOC005'),\n",
    "('MERCH005', 'Global Gadgets', 'Electronics', 'LOC006'),\n",
    "('MERCH006', 'Style Studio', 'Fashion', 'LOC007');\n",
    "\n",
    "-- Transaction data\n",
    "INSERT INTO Transaction (\n",
    "    transaction_id, merchant_id, customer_id, payment_method_id, \n",
    "    device_type_id, date_id, status_id, product_id, location_id, \n",
    "    currency_id, datetime, amount, tax\n",
    ") \n",
    "VALUES \n",
    "('TXN001', 'MERCH001', 'CUST001', 'PM001', \n",
    "'DEV001', '20231022', 'STAT001', 'PROD001', 'LOC001', \n",
    "'CUR001', '2023-10-22 14:30:00', 120.50, 10.00),\n",
    "\n",
    "('TXN002', 'MERCH002', 'CUST002', 'PM002', \n",
    "'DEV002', '20231023', 'STAT002', 'PROD002', 'LOC002', \n",
    "'CUR002', '2023-10-23 16:45:00', 85.75, 7.50),\n",
    "\n",
    "('TXN003', 'MERCH003', 'CUST003', 'PM003', \n",
    "'DEV003', '20231024', 'STAT003', 'PROD003', 'LOC003', \n",
    "'CUR003', '2023-10-24 11:00:00', 150.00, 12.50),\n",
    "\n",
    "('TXN004', 'MERCH004', 'CUST004', 'PM004', \n",
    "'DEV004', '20231025', 'STAT004', 'PROD004', 'LOC005', \n",
    "'CUR003', '2023-10-25 09:15:00', 299.99, 25.00),\n",
    "\n",
    "('TXN005', 'MERCH005', 'CUST005', 'PM005', \n",
    "'DEV005', '20231026', 'STAT005', 'PROD005', 'LOC006', \n",
    "'CUR004', '2023-10-26 14:20:00', 2499.99, 200.00),\n",
    "\n",
    "('TXN006', 'MERCH006', 'CUST006', 'PM006', \n",
    "'DEV006', '20231027', 'STAT006', 'PROD006', 'LOC007', \n",
    "'CUR005', '2023-10-27 16:30:00', 199.99, 16.00),\n",
    "\n",
    "('TXN007', 'MERCH001', 'CUST005', 'PM002', \n",
    "'DEV003', '20231028', 'STAT001', 'PROD001', 'LOC006', \n",
    "'CUR004', '2023-10-28 10:45:00', 899.99, 75.00),\n",
    "\n",
    "('TXN008', 'MERCH003', 'CUST004', 'PM003', \n",
    "'DEV002', '20231029', 'STAT002', 'PROD003', 'LOC005', \n",
    "'CUR003', '2023-10-29 11:50:00', 3.99, 0.32),\n",
    "\n",
    "('TXN009', 'MERCH002', 'CUST006', 'PM001', \n",
    "'DEV001', '20231030', 'STAT003', 'PROD002', 'LOC007', \n",
    "'CUR005', '2023-10-30 13:25:00', 1299.99, 104.00);"
   ]
  },
  {
   "cell_type": "markdown",
   "metadata": {},
   "source": [
    "### 3 - Queries test"
   ]
  },
  {
   "cell_type": "markdown",
   "metadata": {},
   "source": [
    "Revenus totaux par marchand"
   ]
  },
  {
   "cell_type": "code",
   "execution_count": null,
   "metadata": {
    "vscode": {
     "languageId": "sql"
    }
   },
   "outputs": [],
   "source": [
    "SELECT \n",
    "    m.merchant_name,\n",
    "    COUNT(*) as nombre_transactions,\n",
    "    SUM(t.amount) as revenu_total\n",
    "FROM Transaction t\n",
    "JOIN Merchant m ON t.merchant_id = m.merchant_id\n",
    "GROUP BY m.merchant_name\n",
    "ORDER BY revenu_total DESC;"
   ]
  },
  {
   "cell_type": "markdown",
   "metadata": {},
   "source": [
    "Transactions à haut risque par score de fraude"
   ]
  },
  {
   "cell_type": "code",
   "execution_count": null,
   "metadata": {
    "vscode": {
     "languageId": "sql"
    }
   },
   "outputs": [],
   "source": [
    "SELECT \n",
    "    t.transaction_id,\n",
    "    s.status_name,\n",
    "    s.fraude_score,\n",
    "    t.amount,\n",
    "    c.customer_name,\n",
    "    m.merchant_name\n",
    "FROM Transaction t\n",
    "JOIN Status s ON t.status_id = s.status_id\n",
    "JOIN Customer c ON t.customer_id = c.customer_id\n",
    "JOIN Merchant m ON t.merchant_id = m.merchant_id\n",
    "WHERE s.fraude_score > 0.7\n",
    "ORDER BY s.fraude_score DESC;"
   ]
  },
  {
   "cell_type": "markdown",
   "metadata": {},
   "source": [
    "Analyse des transactions frauduleuses par type de paiement"
   ]
  },
  {
   "cell_type": "code",
   "execution_count": null,
   "metadata": {
    "vscode": {
     "languageId": "sql"
    }
   },
   "outputs": [],
   "source": [
    "SELECT \n",
    "    pm.payment_type,\n",
    "    COUNT(*) as nombre_transactions_suspectes,\n",
    "    AVG(s.fraude_score) as score_moyen\n",
    "FROM Transaction t\n",
    "JOIN Status s ON t.status_id = s.status_id\n",
    "JOIN Payment_method pm ON t.payment_method_id = pm.payment_method_id\n",
    "WHERE s.fraude_score > 0.5\n",
    "GROUP BY pm.payment_type\n",
    "ORDER BY score_moyen DESC;"
   ]
  },
  {
   "cell_type": "markdown",
   "metadata": {},
   "source": [
    "Segmentation par volume de transactions"
   ]
  },
  {
   "cell_type": "code",
   "execution_count": null,
   "metadata": {
    "vscode": {
     "languageId": "sql"
    }
   },
   "outputs": [],
   "source": [
    "SELECT \n",
    "    c.customer_id,\n",
    "    c.customer_name,\n",
    "    COUNT(*) as nombre_transactions,\n",
    "    SUM(t.amount) as montant_total,\n",
    "    CASE \n",
    "        WHEN COUNT(*) > 3 THEN 'Client Fréquent'\n",
    "        WHEN SUM(t.amount) > 1000 THEN 'Gros Acheteur'\n",
    "        ELSE 'Client Standard'\n",
    "    END as segment\n",
    "FROM Customer c\n",
    "JOIN Transaction t ON c.customer_id = t.customer_id\n",
    "GROUP BY c.customer_id, c.customer_name\n",
    "ORDER BY montant_total DESC;"
   ]
  },
  {
   "cell_type": "markdown",
   "metadata": {},
   "source": [
    "Évolution des transactions par jour"
   ]
  },
  {
   "cell_type": "code",
   "execution_count": null,
   "metadata": {
    "vscode": {
     "languageId": "sql"
    }
   },
   "outputs": [],
   "source": [
    "SELECT \n",
    "    date_id,\n",
    "    COUNT(*) as nombre_transactions,\n",
    "    SUM(amount) as montant_total,\n",
    "    AVG(amount) as montant_moyen\n",
    "FROM Transaction\n",
    "GROUP BY date_id\n",
    "ORDER BY date_id;"
   ]
  },
  {
   "cell_type": "markdown",
   "metadata": {},
   "source": [
    "# Queries de création pour base de données OLAP"
   ]
  },
  {
   "cell_type": "markdown",
   "metadata": {},
   "source": [
    "Nom de la base de BDD : **OLAP_STRIP_PROJECT** sur **Snowflake**"
   ]
  },
  {
   "cell_type": "markdown",
   "metadata": {},
   "source": [
    "### 1 - Création des tables sous Snowflake\n",
    "Il faut d'abord crééer les tables de dimension (commençant par DIM), puis les tables contenant les mesures (commançant par FACT)"
   ]
  },
  {
   "cell_type": "markdown",
   "metadata": {},
   "source": [
    "### DIM_DATE"
   ]
  },
  {
   "cell_type": "code",
   "execution_count": null,
   "metadata": {
    "vscode": {
     "languageId": "sql"
    }
   },
   "outputs": [],
   "source": [
    "CREATE OR REPLACE TABLE OLAP_STRIP_PROJECT.PUBLIC.DIM_DATE (\n",
    "    date_key TIMESTAMP PRIMARY KEY,\n",
    "    day INTEGER,\n",
    "    month INTEGER,\n",
    "    year INTEGER,\n",
    "    quarter INTEGER,\n",
    "    is_weekend BOOLEAN,\n",
    "    is_holiday BOOLEAN\n",
    ");"
   ]
  },
  {
   "cell_type": "markdown",
   "metadata": {},
   "source": [
    "### DIM_COMPLIANCE "
   ]
  },
  {
   "cell_type": "code",
   "execution_count": null,
   "metadata": {
    "vscode": {
     "languageId": "sql"
    }
   },
   "outputs": [],
   "source": [
    "CREATE OR REPLACE TABLE OLAP_STRIP_PROJECT.PUBLIC.DIM_COMPLIANCE (\n",
    "    compliance_key STRING PRIMARY KEY,\n",
    "    regulation_type STRING,\n",
    "    compliance_status STRING,\n",
    "    audit_log STRING,\n",
    "    last_audit_date DATE\n",
    ");"
   ]
  },
  {
   "cell_type": "markdown",
   "metadata": {},
   "source": [
    "### DIM_LOCATION "
   ]
  },
  {
   "cell_type": "code",
   "execution_count": null,
   "metadata": {
    "vscode": {
     "languageId": "sql"
    }
   },
   "outputs": [],
   "source": [
    "CREATE OR REPLACE TABLE OLAP_STRIP_PROJECT.PUBLIC.DIM_LOCATION (\n",
    "    location_key STRING PRIMARY KEY,\n",
    "    country_name STRING,\n",
    "    region STRING,\n",
    "    city STRING,\n",
    "    embargo BOOLEAN,\n",
    "    location_ip STRING\n",
    ");"
   ]
  },
  {
   "cell_type": "markdown",
   "metadata": {},
   "source": [
    "### DIM_CURRENCY"
   ]
  },
  {
   "cell_type": "code",
   "execution_count": null,
   "metadata": {
    "vscode": {
     "languageId": "sql"
    }
   },
   "outputs": [],
   "source": [
    "CREATE OR REPLACE TABLE OLAP_STRIP_PROJECT.PUBLIC.DIM_CURRENCY (\n",
    "    currency_key STRING PRIMARY KEY,\n",
    "    from_currency STRING,\n",
    "    to_currency STRING,\n",
    "    exchange_rate FLOAT\n",
    ");"
   ]
  },
  {
   "cell_type": "markdown",
   "metadata": {},
   "source": [
    "### DIM_PAYMENT_METHOD "
   ]
  },
  {
   "cell_type": "code",
   "execution_count": null,
   "metadata": {
    "vscode": {
     "languageId": "sql"
    }
   },
   "outputs": [],
   "source": [
    "CREATE OR REPLACE TABLE OLAP_STRIP_PROJECT.PUBLIC.DIM_PAYMENT_METHOD (\n",
    "    payment_method_key STRING PRIMARY KEY,\n",
    "    payment_type STRING,\n",
    "    provider STRING,\n",
    "    online BOOLEAN,\n",
    "    compliance_key STRING REFERENCES OLAP_STRIP_PROJECT.PUBLIC.DIM_COMPLIANCE(compliance_key)\n",
    ");"
   ]
  },
  {
   "cell_type": "markdown",
   "metadata": {},
   "source": [
    "### DIM_PRODUCT "
   ]
  },
  {
   "cell_type": "code",
   "execution_count": null,
   "metadata": {
    "vscode": {
     "languageId": "sql"
    }
   },
   "outputs": [],
   "source": [
    "CREATE OR REPLACE TABLE OLAP_STRIP_PROJECT.PUBLIC.DIM_PRODUCT (\n",
    "    product_key STRING PRIMARY KEY,\n",
    "    product_name STRING,\n",
    "    price DECIMAL(10,2),\n",
    "    category STRING,\n",
    "    online BOOLEAN,\n",
    "    total_sell INTEGER,\n",
    "    authorized BOOLEAN\n",
    ");"
   ]
  },
  {
   "cell_type": "markdown",
   "metadata": {},
   "source": [
    "### DIM_CUSTOMER "
   ]
  },
  {
   "cell_type": "code",
   "execution_count": null,
   "metadata": {
    "vscode": {
     "languageId": "sql"
    }
   },
   "outputs": [],
   "source": [
    "CREATE OR REPLACE TABLE OLAP_STRIP_PROJECT.PUBLIC.DIM_CUSTOMER (\n",
    "    customer_key STRING PRIMARY KEY,\n",
    "    customer_name STRING,\n",
    "    customer_age INTEGER,\n",
    "    customer_phone STRING,\n",
    "    customer_email STRING,\n",
    "    customer_since DATE,\n",
    "    customer_value STRING,\n",
    "    compliance_key STRING REFERENCES OLAP_STRIP_PROJECT.PUBLIC.DIM_COMPLIANCE(compliance_key)\n",
    ");"
   ]
  },
  {
   "cell_type": "markdown",
   "metadata": {},
   "source": [
    "### DIM_MERCHANT "
   ]
  },
  {
   "cell_type": "code",
   "execution_count": null,
   "metadata": {
    "vscode": {
     "languageId": "sql"
    }
   },
   "outputs": [],
   "source": [
    "CREATE OR REPLACE TABLE OLAP_STRIP_PROJECT.PUBLIC.DIM_MERCHANT (\n",
    "    merchant_key STRING PRIMARY KEY,\n",
    "    merchant_name STRING,\n",
    "    merchant_phone STRING,\n",
    "    merchant_email STRING,\n",
    "    business_type STRING,\n",
    "    country_name STRING,\n",
    "    registration_date DATE,\n",
    "    compliance_key STRING REFERENCES OLAP_STRIP_PROJECT.PUBLIC.DIM_COMPLIANCE(compliance_key)\n",
    ");"
   ]
  },
  {
   "cell_type": "markdown",
   "metadata": {},
   "source": [
    "### FACT_FRAUD_ANALYSIS "
   ]
  },
  {
   "cell_type": "code",
   "execution_count": null,
   "metadata": {
    "vscode": {
     "languageId": "sql"
    }
   },
   "outputs": [],
   "source": [
    "CREATE OR REPLACE TABLE OLAP_STRIP_PROJECT.PUBLIC.FACT_FRAUD_ANALYSIS (\n",
    "    fraud_key STRING PRIMARY KEY,\n",
    "    date_key TIMESTAMP REFERENCES OLAP_STRIP_PROJECT.PUBLIC.DIM_DATE(date_key),\n",
    "    merchant_key STRING REFERENCES OLAP_STRIP_PROJECT.PUBLIC.DIM_MERCHANT(merchant_key),\n",
    "    payment_method_key STRING REFERENCES OLAP_STRIP_PROJECT.PUBLIC.DIM_PAYMENT_METHOD(payment_method_key),\n",
    "    product_key STRING REFERENCES OLAP_STRIP_PROJECT.PUBLIC.DIM_PRODUCT(product_key),\n",
    "    location_key STRING REFERENCES OLAP_STRIP_PROJECT.PUBLIC.DIM_LOCATION(location_key),\n",
    "    fraud_score FLOAT,\n",
    "    is_fraudulent BOOLEAN\n",
    ");"
   ]
  },
  {
   "cell_type": "markdown",
   "metadata": {},
   "source": [
    "### FACT_TRANSACTION "
   ]
  },
  {
   "cell_type": "code",
   "execution_count": null,
   "metadata": {
    "vscode": {
     "languageId": "sql"
    }
   },
   "outputs": [],
   "source": [
    "CREATE OR REPLACE TABLE OLAP_STRIP_PROJECT.PUBLIC.FACT_TRANSACTION (\n",
    "    transaction_key STRING PRIMARY KEY,\n",
    "    date_key TIMESTAMP REFERENCES OLAP_STRIP_PROJECT.PUBLIC.DIM_DATE(date_key),\n",
    "    customer_key STRING REFERENCES OLAP_STRIP_PROJECT.PUBLIC.DIM_CUSTOMER(customer_key),\n",
    "    merchant_key STRING REFERENCES OLAP_STRIP_PROJECT.PUBLIC.DIM_MERCHANT(merchant_key),\n",
    "    payment_method_key STRING REFERENCES OLAP_STRIP_PROJECT.PUBLIC.DIM_PAYMENT_METHOD(payment_method_key),\n",
    "    product_key STRING REFERENCES OLAP_STRIP_PROJECT.PUBLIC.DIM_PRODUCT(product_key),\n",
    "    fraud_key STRING REFERENCES OLAP_STRIP_PROJECT.PUBLIC.FACT_FRAUD_ANALYSIS(fraud_key),\n",
    "    currency_key STRING REFERENCES OLAP_STRIP_PROJECT.PUBLIC.DIM_CURRENCY(currency_key),\n",
    "    location_key STRING REFERENCES OLAP_STRIP_PROJECT.PUBLIC.DIM_LOCATION(location_key),\n",
    "    transaction_count INTEGER,\n",
    "    total_revenue FLOAT,\n",
    "    total_tax FLOAT\n",
    ");"
   ]
  },
  {
   "cell_type": "markdown",
   "metadata": {},
   "source": [
    "### Vérification de la création des tables"
   ]
  },
  {
   "cell_type": "code",
   "execution_count": null,
   "metadata": {
    "vscode": {
     "languageId": "sql"
    }
   },
   "outputs": [],
   "source": [
    "SHOW TABLES IN OLAP_STRIP_PROJECT.PUBLIC;"
   ]
  },
  {
   "cell_type": "markdown",
   "metadata": {},
   "source": [
    "### 2 - insertion des données\n",
    "Script USE WAREHOUSE COMPUTE_WH;.sql et modifications directement sous Snowflake"
   ]
  },
  {
   "cell_type": "code",
   "execution_count": null,
   "metadata": {
    "vscode": {
     "languageId": "sql"
    }
   },
   "outputs": [],
   "source": [
    "-- Dim_compliance\n",
    "INSERT INTO OLAP_STRIP_PROJECT.PUBLIC.Dim_compliance \n",
    "(compliance_key, regulation_type, compliance_status, audit_log, last_audit_date)\n",
    "VALUES \n",
    "('COMP001', 'GDPR', 'Compliant', 'Log001', '2023-01-15'),\n",
    "('COMP002', 'PCI-DSS', 'Non-Compliant', 'Log002', '2023-03-20'),\n",
    "('COMP003', 'HIPAA', 'Compliant', 'Log003', '2023-05-25'),\n",
    "('COMP004', 'KYC', 'Blocked', 'Log004', '2023-12-01'),\n",
    "('COMP005', 'AML', 'Investigation Required', 'Log005', '2024-01-10'),\n",
    "('COMP006', 'OFAC', 'Sanctions List', 'Log006', '2024-01-15');\n",
    "\n",
    "-- Dim_currency\n",
    "INSERT INTO OLAP_STRIP_PROJECT.PUBLIC.Dim_currency \n",
    "(currency_key, from_currency, to_currency, exchange_rate)\n",
    "VALUES \n",
    "('CUR001', 'USD', 'EUR', 0.85),\n",
    "('CUR002', 'EUR', 'JPY', 129.53),\n",
    "('CUR003', 'GBP', 'USD', 1.39),\n",
    "('CUR004', 'USD', 'CAD', 1.25),\n",
    "('CUR005', 'EUR', 'GBP', 0.86),\n",
    "('CUR006', 'JPY', 'USD', 0.0091),\n",
    "('CUR007', 'IRR', 'USD', 0.000024),\n",
    "('CUR008', 'CNY', 'USD', 0.15);\n",
    "\n",
    "-- Dim_location\n",
    "INSERT INTO OLAP_STRIP_PROJECT.PUBLIC.Dim_location \n",
    "(location_key, country_name, region, city, embargo, location_ip)\n",
    "VALUES \n",
    "('LOC001', 'France', 'Ile-de-France', 'Paris', FALSE, '192.168.0.1'),\n",
    "('LOC002', 'USA', 'California', 'San Francisco', FALSE, '192.168.0.2'),\n",
    "('LOC003', 'Germany', 'Bavaria', 'Munich', FALSE, '192.168.0.3'),\n",
    "('LOC004', 'Iran', 'Tehran Province', 'Tehran', TRUE, '10.10.10.1'),\n",
    "('LOC005', 'UK', 'England', 'London', FALSE, '192.168.0.5'),\n",
    "('LOC006', 'Japan', 'Kanto', 'Tokyo', FALSE, '192.168.0.6'),\n",
    "('LOC007', 'China', 'Shanghai', 'Shanghai', FALSE, '192.168.0.7'),\n",
    "('LOC008', 'France', 'Rhône-Alpes', 'Lyon', FALSE, '192.168.0.8'),\n",
    "('LOC009', 'USA', 'New York', 'New York', FALSE, '192.168.0.9');\n",
    "\n",
    "-- Dim_payment_method\n",
    "INSERT INTO OLAP_STRIP_PROJECT.PUBLIC.Dim_payment_method \n",
    "(payment_method_key, payment_type, provider, online, compliance_key)\n",
    "VALUES \n",
    "('PAY001', 'Credit Card', 'Visa', TRUE, 'COMP001'),\n",
    "('PAY002', 'PayPal', 'PayPal Inc.', TRUE, 'COMP001'),\n",
    "('PAY003', 'Bank Transfer', 'BNP Paribas', TRUE, 'COMP001'),\n",
    "('PAY004', 'Local Iranian Bank', 'Bank Melli', TRUE, 'COMP006'),\n",
    "('PAY005', 'Digital Wallet', 'Apple Pay', TRUE, 'COMP001'),\n",
    "('PAY006', 'Credit Card', 'Mastercard', TRUE, 'COMP001'),\n",
    "('PAY007', 'Cryptocurrency', 'Bitcoin', TRUE, 'COMP005');\n",
    "\n",
    "-- Dim_product\n",
    "INSERT INTO OLAP_STRIP_PROJECT.PUBLIC.Dim_product \n",
    "(product_key, product_name, price, category, online, total_sell, authorized)\n",
    "VALUES \n",
    "('PROD001', 'Smartphone X', 899.99, 'Electronics', TRUE, 1500, TRUE),\n",
    "('PROD002', 'Designer Handbag', 1299.99, 'Fashion', TRUE, 750, TRUE),\n",
    "('PROD003', 'Organic Bananas', 3.99, 'Grocery', TRUE, 10000, TRUE),\n",
    "('PROD004', 'Premium Headphones', 299.99, 'Electronics', TRUE, 3000, TRUE),\n",
    "('PROD005', 'Industrial Equipment', 15000.00, 'Industrial', TRUE, 50, FALSE),\n",
    "('PROD006', 'Military Grade GPS', 2999.99, 'Electronics', TRUE, 0, FALSE),\n",
    "('PROD007', 'Laptop Pro', 1799.99, 'Electronics', TRUE, 800, TRUE);\n",
    "\n",
    "-- Dim_merchant\n",
    "INSERT INTO OLAP_STRIP_PROJECT.PUBLIC.Dim_merchant \n",
    "(merchant_key, merchant_name, merchant_phone, merchant_email, business_type, country_name, registration_date, compliance_key)\n",
    "VALUES \n",
    "('MERCH001', 'Super Shop', '+1-555-0001', 'contact@supershop.com', 'Retail', 'USA', '2018-01-01', 'COMP001'),\n",
    "('MERCH002', 'Fashion Hub', '+33-555-0002', 'contact@fashionhub.com', 'Fashion', 'France', '2019-03-15', 'COMP001'),\n",
    "('MERCH003', 'QuickMart', '+44-555-0003', 'contact@quickmart.com', 'Grocery', 'UK', '2017-06-20', 'COMP001'),\n",
    "('MERCH004', 'Tehran Trading Co', '+98-555-0004', 'contact@tehrantrading.com', 'Industrial', 'Iran', '2020-02-10', 'COMP006'),\n",
    "('MERCH005', 'Tech Haven', '+81-555-0005', 'contact@techhaven.com', 'Electronics', 'Japan', '2019-09-05', 'COMP001');\n",
    "\n",
    "-- Dim_customer\n",
    "INSERT INTO OLAP_STRIP_PROJECT.PUBLIC.Dim_customer \n",
    "(customer_key, customer_name, customer_age, customer_phone, customer_email, customer_since, customer_value, compliance_key)\n",
    "VALUES \n",
    "('CUST001', 'John Smith', 35, '+1-555-0123', 'john.s@email.com', '2020-01-15', '25000', 'COMP001'),\n",
    "('CUST002', 'Emma Wilson', 28, '+44-555-0124', 'emma.w@email.com', '2021-03-20', '15000', 'COMP001'),\n",
    "('CUST003', 'Ali Akbari', 42, '+98-555-0125', 'ali.a@email.com', '2019-06-10', '35000', 'COMP006'),\n",
    "('CUST004', 'Maria Garcia', 31, '+33-555-0126', 'maria.g@email.com', '2022-02-28', '10000', 'COMP001'),\n",
    "('CUST005', 'Hassan Tehrani', 45, '+98-555-0127', 'hassan.t@email.com', '2018-12-05', '50000', 'COMP006'),\n",
    "('CUST006', 'Sophie Martin', 29, '+33-555-0128', 'sophie.m@email.com', '2021-09-15', '20000', 'COMP001'),\n",
    "('CUST007', 'David Chen', 38, '+86-555-0129', 'david.c@email.com', '2020-07-22', '30000', 'COMP001');\n",
    "\n",
    "-- Dim_date\n",
    "INSERT INTO OLAP_STRIP_PROJECT.PUBLIC.Dim_date \n",
    "(date_key, day, month, year, quarter, is_weekend, is_holiday)\n",
    "VALUES \n",
    "('2024-10-17 12:30:00', 17, 10, 2024, 4, FALSE, FALSE),\n",
    "('2024-10-18 08:45:00', 18, 10, 2024, 4, FALSE, FALSE),\n",
    "('2024-10-19 16:00:00', 19, 10, 2024, 4, TRUE, FALSE),\n",
    "('2024-11-05 14:20:00', 5, 11, 2024, 4, FALSE, FALSE),\n",
    "('2024-12-01 10:45:00', 1, 12, 2024, 4, TRUE, FALSE),\n",
    "('2024-09-30 18:30:00', 30, 9, 2024, 3, FALSE, FALSE);\n",
    "\n",
    "-- Fact_fraud_analysis\n",
    "INSERT INTO OLAP_STRIP_PROJECT.PUBLIC.Fact_fraud_analysis \n",
    "(fraud_key, date_key, merchant_key, payment_method_key, product_key, location_key, fraud_score, is_fraudulent)\n",
    "VALUES \n",
    "('FRAUD001', '2024-10-17 12:30:00', 'MERCH001', 'PAY001', 'PROD001', 'LOC002', 0.85, FALSE),\n",
    "('FRAUD002', '2024-10-18 08:45:00', 'MERCH002', 'PAY002', 'PROD002', 'LOC008', 0.2, FALSE),\n",
    "('FRAUD003', '2024-10-19 16:00:00', 'MERCH004', 'PAY004', 'PROD005', 'LOC004', 0.95, TRUE),\n",
    "('FRAUD004', '2024-11-05 14:20:00', 'MERCH001', 'PAY006', 'PROD004', 'LOC009', 0.3, FALSE),\n",
    "('FRAUD005', '2024-12-01 10:45:00', 'MERCH003', 'PAY002', 'PROD003', 'LOC005', 0.1, FALSE),\n",
    "('FRAUD006', '2024-09-30 18:30:00', 'MERCH002', 'PAY002', 'PROD001', 'LOC001', 0.4, FALSE);\n",
    "\n",
    "-- Fact_transaction\n",
    "INSERT INTO OLAP_STRIP_PROJECT.PUBLIC.Fact_transaction \n",
    "(transaction_key, date_key, customer_key, merchant_key, payment_method_key, product_key, fraud_key, currency_key, location_key, transaction_count, total_revenue, total_tax)\n",
    "VALUES \n",
    "('TX12345', '2024-10-17 12:30:00', 'CUST001', 'MERCH001', 'PAY001', 'PROD001', 'FRAUD001', 'CUR001', 'LOC002', 1, 100.50, 20.10),\n",
    "('TX1003', '2024-10-18 08:45:00', 'CUST004', 'MERCH002', 'PAY002', 'PROD002', 'FRAUD002', 'CUR002', 'LOC008', 1, 350.00, 70.00),\n",
    "('TX1005', '2024-10-19 16:00:00', 'CUST003', 'MERCH004', 'PAY004', 'PROD005', 'FRAUD003', 'CUR007', 'LOC004', 1, 15000.00, 3000.00),\n",
    "('TX54321', '2024-11-05 14:20:00', 'CUST002', 'MERCH001', 'PAY006', 'PROD004', 'FRAUD004', 'CUR001', 'LOC009', 1, 249.99, 50.00),\n",
    "('TX67890', '2024-12-01 10:45:00', 'CUST003', 'MERCH003', 'PAY002', 'PROD003', 'FRAUD005', 'CUR003', 'LOC005', 1, 45.25, 9.05),\n",
    "('TX98765', '2024-09-30 18:30:00', 'CUST004', 'MERCH002', 'PAY002', 'PROD001', 'FRAUD006', 'CUR002', 'LOC001', 1, 89.99, 18.00);"
   ]
  },
  {
   "cell_type": "markdown",
   "metadata": {},
   "source": [
    "### 3 - Queries tests"
   ]
  },
  {
   "cell_type": "markdown",
   "metadata": {},
   "source": [
    "#### 1."
   ]
  },
  {
   "cell_type": "code",
   "execution_count": null,
   "metadata": {
    "vscode": {
     "languageId": "sql"
    }
   },
   "outputs": [],
   "source": [
    "SELECT \n",
    "    l.country_name,\n",
    "    COUNT(*) as transaction_count,\n",
    "    SUM(t.total_revenue) as total_amount,\n",
    "    MIN(f.fraud_score) as min_fraud_score,\n",
    "    MAX(f.fraud_score) as max_fraud_score,\n",
    "    p.product_name,\n",
    "    p.category\n",
    "FROM DIM_LOCATION l\n",
    "JOIN FACT_TRANSACTION t ON l.location_key = t.location_key\n",
    "JOIN FACT_FRAUD_ANALYSIS f ON t.fraud_key = f.fraud_key\n",
    "JOIN DIM_PRODUCT p ON t.product_key = p.product_key\n",
    "WHERE l.embargo = TRUE\n",
    "GROUP BY l.country_name, p.product_name, p.category\n",
    "ORDER BY total_amount DESC;"
   ]
  },
  {
   "cell_type": "markdown",
   "metadata": {},
   "source": [
    "Cette requête :\n",
    "- Sélectionne les données à analyser dans la requête : nom du pays sous embargo, le nombre de transactions, le score minimal et maximal de chaque pays, le nom et la catégore des produits. \n",
    "- Indique ou aller chercher les informations : le nom des tables (avec création d'un alias à la 1ere utilisation), la condition de jointure (le nom de la donnée commune aux tables)\n",
    "- Filtre les éléments souhaités : ou il y a un embargo dans notre requête\n",
    "- Agrège les résultats : les données sont regroupées et cumulés par pays, nom et catégorie de produit. \n",
    "Tri : les résultats sont ordonnés en ordre décroissant du montat total des revenus.\n",
    "\n"
   ]
  },
  {
   "cell_type": "markdown",
   "metadata": {},
   "source": [
    "#### 2."
   ]
  },
  {
   "cell_type": "code",
   "execution_count": null,
   "metadata": {
    "vscode": {
     "languageId": "sql"
    }
   },
   "outputs": [],
   "source": [
    "SELECT \n",
    "    l.country_name,\n",
    "    COUNT(*) as total_transactions,\n",
    "    SUM(CASE WHEN f.is_fraudulent THEN 1 ELSE 0 END) as fraudulent_transactions,\n",
    "    AVG(f.fraud_score) as avg_fraud_score\n",
    "FROM FACT_FRAUD_ANALYSIS f\n",
    "JOIN DIM_LOCATION l ON f.location_key = l.location_key\n",
    "GROUP BY l.country_name\n",
    "ORDER BY avg_fraud_score DESC;"
   ]
  },
  {
   "cell_type": "markdown",
   "metadata": {},
   "source": [
    "Cette requête extrait les transactions par pays. Elle calcule le nombre de transactions, de transactions frauduleuses et la moyenne du scrore de fraude. Elle affiche les pays par score moyen de fraude décroissant. "
   ]
  },
  {
   "cell_type": "code",
   "execution_count": null,
   "metadata": {
    "vscode": {
     "languageId": "sql"
    }
   },
   "outputs": [],
   "source": [
    "SELECT \n",
    "    p.product_name,\n",
    "    p.category,\n",
    "    p.total_sell\n",
    "FROM OLAP_STRIP_PROJECT.PUBLIC.Dim_product p\n",
    "WHERE p.total_sell > 100;\n"
   ]
  },
  {
   "cell_type": "markdown",
   "metadata": {},
   "source": [
    "Cette requête sélectionne les produits avec plus de 100 ventes totales, montrant :\n",
    "Nom du produit\n",
    "Catégorie\n",
    "Nombre total de ventes\n",
    "Elle filtre avec WHERE pour n'afficher que les produits populaires (>100 ventes)."
   ]
  },
  {
   "cell_type": "code",
   "execution_count": null,
   "metadata": {
    "vscode": {
     "languageId": "sql"
    }
   },
   "outputs": [],
   "source": [
    "SELECT \n",
    "    f.transaction_key,\n",
    "    fa.fraud_score,\n",
    "    fa.is_fraudulent\n",
    "FROM OLAP_STRIP_PROJECT.PUBLIC.Fact_transaction f\n",
    "JOIN OLAP_STRIP_PROJECT.PUBLIC.Fact_fraud_analysis fa\n",
    "    ON f.fraud_key = fa.fraud_key\n",
    "WHERE fa.is_fraudulent = TRUE;\n"
   ]
  },
  {
   "cell_type": "markdown",
   "metadata": {},
   "source": [
    "Cette requête extrait les transactions frauduleuses uniquement. Pour chaque transaction frauduleuse, elle affiche la clé de transaction, le score de fraude et le statut frauduleux."
   ]
  }
 ],
 "metadata": {
  "kernelspec": {
   "display_name": "Python 3",
   "language": "python",
   "name": "python3"
  },
  "language_info": {
   "codemirror_mode": {
    "name": "ipython",
    "version": 3
   },
   "file_extension": ".py",
   "mimetype": "text/x-python",
   "name": "python",
   "nbconvert_exporter": "python",
   "pygments_lexer": "ipython3",
   "version": "3.12.8"
  }
 },
 "nbformat": 4,
 "nbformat_minor": 2
}
